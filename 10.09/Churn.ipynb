{
  "nbformat": 4,
  "nbformat_minor": 0,
  "metadata": {
    "colab": {
      "provenance": []
    },
    "kernelspec": {
      "name": "python3",
      "display_name": "Python 3"
    },
    "language_info": {
      "name": "python"
    }
  },
  "cells": [
    {
      "cell_type": "markdown",
      "source": [
        "\n",
        "\n",
        "**1. Abordar o Problema e Analisar**\n",
        "\n",
        "Objetivo: Prever quais clientes têm maior probabilidade de cancelar o serviço.\n",
        "\n",
        "Desafios:\n",
        "\n",
        "Base desbalanceada,\n",
        "\n",
        "Muitos atributos categóricos (tipo de contrato, forma de pagamento, serviços extras).\n",
        "\n",
        "Necessidade de métricas além da acurácia.\n",
        "\n"
      ],
      "metadata": {
        "id": "V1_nUmASHTSQ"
      }
    },
    {
      "cell_type": "markdown",
      "source": [
        "**2. Obter os Dados**\n",
        "\n",
        "Fonte sugerida: Telco Customer Churn Dataset (Kaggle).\n",
        "\n",
        "Exemplo: Churn.csv."
      ],
      "metadata": {
        "id": "OIw21aAcHrrQ"
      }
    },
    {
      "cell_type": "code",
      "execution_count": null,
      "metadata": {
        "id": "wbSF86nOHSuz"
      },
      "outputs": [],
      "source": [
        "import pandas as pd\n",
        "\n",
        "df = pd.read_csv(\"Churn.csv\")\n",
        "df.head()\n"
      ]
    },
    {
      "cell_type": "markdown",
      "source": [
        "**3. Explorar os Dados**"
      ],
      "metadata": {
        "id": "QyBGuINRIp5o"
      }
    },
    {
      "cell_type": "code",
      "source": [
        "print(df.info())\n",
        "print(df['Churn'].value_counts(normalize=True))\n",
        "\n",
        "import seaborn as sns\n",
        "import matplotlib.pyplot as plt\n",
        "\n",
        "sns.countplot(x=\"Churn\", data=df)\n",
        "plt.title(\"Distribuição de Clientes (Churn)\")\n",
        "plt.show()\n"
      ],
      "metadata": {
        "id": "gznJ6vTgIvjZ"
      },
      "execution_count": null,
      "outputs": []
    },
    {
      "cell_type": "markdown",
      "source": [
        "**4. Tratamento dos Dados**"
      ],
      "metadata": {
        "id": "F4qQ_uv8Iy0Q"
      }
    },
    {
      "cell_type": "code",
      "source": [
        "# Remover coluna irrelevante\n",
        "df = df.drop([\"customerID\"], axis=1)\n",
        "\n",
        "# Corrigir TotalCharges\n",
        "df[\"TotalCharges\"] = pd.to_numeric(df[\"TotalCharges\"], errors=\"coerce\")\n",
        "df[\"TotalCharges\"].fillna(df[\"TotalCharges\"].median(), inplace=True)\n",
        "\n",
        "# Transformar target\n",
        "df[\"Churn\"] = df[\"Churn\"].map({\"Yes\": 1, \"No\": 0})\n"
      ],
      "metadata": {
        "id": "UbiHEIPwI1uJ"
      },
      "execution_count": null,
      "outputs": []
    },
    {
      "cell_type": "markdown",
      "source": [
        "**5. Separar Base de Dados em Arrays**"
      ],
      "metadata": {
        "id": "Jxah2bbmI6UZ"
      }
    },
    {
      "cell_type": "code",
      "source": [
        "X = df.drop(\"Churn\", axis=1)\n",
        "y = df[\"Churn\"]\n"
      ],
      "metadata": {
        "id": "19laBQT0Jemx"
      },
      "execution_count": null,
      "outputs": []
    },
    {
      "cell_type": "markdown",
      "source": [
        "**6. Técnicas de Pré-processamento**"
      ],
      "metadata": {
        "id": "A2BWmntbI9p5"
      }
    },
    {
      "cell_type": "code",
      "source": [
        "from sklearn.preprocessing import OneHotEncoder, StandardScaler\n",
        "from sklearn.compose import ColumnTransformer\n",
        "\n",
        "num_cols = X.select_dtypes(include=[\"int64\",\"float64\"]).columns\n",
        "cat_cols = X.select_dtypes(include=[\"object\"]).columns\n",
        "\n",
        "preprocessor = ColumnTransformer([\n",
        "    (\"num\", StandardScaler(), num_cols),\n",
        "    (\"cat\", OneHotEncoder(handle_unknown=\"ignore\"), cat_cols)\n",
        "])\n"
      ],
      "metadata": {
        "id": "RaCh0oxgJhCB"
      },
      "execution_count": null,
      "outputs": []
    },
    {
      "cell_type": "markdown",
      "source": [
        "**7. Dividir Base de Dados entre Treino e Teste**"
      ],
      "metadata": {
        "id": "2fXHcr68JA-R"
      }
    },
    {
      "cell_type": "code",
      "source": [
        "from sklearn.model_selection import train_test_split\n",
        "\n",
        "X_train, X_test, y_train, y_test = train_test_split(\n",
        "    X, y, test_size=0.2, random_state=42, stratify=y\n",
        ")\n"
      ],
      "metadata": {
        "id": "u6TVpch2Jj5J"
      },
      "execution_count": null,
      "outputs": []
    },
    {
      "cell_type": "markdown",
      "source": [
        "**8. Definir Vários Modelos e Aplicar Treinamento**"
      ],
      "metadata": {
        "id": "1T1RD6GeJEFJ"
      }
    },
    {
      "cell_type": "code",
      "source": [
        "from sklearn.linear_model import LogisticRegression\n",
        "from sklearn.ensemble import RandomForestClassifier\n",
        "from xgboost import XGBClassifier\n",
        "from sklearn.pipeline import Pipeline\n",
        "\n",
        "models = {\n",
        "    \"Logistic Regression\": LogisticRegression(max_iter=1000),\n",
        "    \"Random Forest\": RandomForestClassifier(n_estimators=200, random_state=42),\n",
        "    \"XGBoost\": XGBClassifier(use_label_encoder=False, eval_metric=\"logloss\")\n",
        "}\n",
        "\n",
        "results = {}\n",
        "for name, model in models.items():\n",
        "    pipe = Pipeline(steps=[(\"preprocessor\", preprocessor),\n",
        "                           (\"classifier\", model)])\n",
        "    pipe.fit(X_train, y_train)\n",
        "    acc = pipe.score(X_test, y_test)\n",
        "    results[name] = acc\n",
        "\n",
        "results\n"
      ],
      "metadata": {
        "id": "XCxmHROvJnlx"
      },
      "execution_count": null,
      "outputs": []
    },
    {
      "cell_type": "markdown",
      "source": [
        "**9. Validar o Modelo**"
      ],
      "metadata": {
        "id": "qmYEzi3eJIeZ"
      }
    },
    {
      "cell_type": "code",
      "source": [
        "from sklearn.metrics import classification_report, confusion_matrix\n",
        "\n",
        "best_model = max(results, key=results.get)\n",
        "print(f\"Melhor modelo: {best_model} - Acurácia: {results[best_model]:.2f}\")\n",
        "\n",
        "pipe = Pipeline(steps=[(\"preprocessor\", preprocessor),\n",
        "                       (\"classifier\", models[best_model])])\n",
        "pipe.fit(X_train, y_train)\n",
        "y_pred = pipe.predict(X_test)\n",
        "\n",
        "print(classification_report(y_test, y_pred))\n",
        "\n",
        "cm = confusion_matrix(y_test, y_pred)\n",
        "sns.heatmap(cm, annot=True, fmt=\"d\", cmap=\"Blues\")\n",
        "plt.title(\"Matriz de Confusão\")\n",
        "plt.show()\n"
      ],
      "metadata": {
        "id": "0kf6slIxJtxy"
      },
      "execution_count": null,
      "outputs": []
    },
    {
      "cell_type": "markdown",
      "source": [
        "**10. Salvar a Solução**"
      ],
      "metadata": {
        "id": "bmOTOB76JbpJ"
      }
    },
    {
      "cell_type": "code",
      "source": [
        "import joblib\n",
        "\n",
        "joblib.dump(pipe, \"modelo_churn.pkl\")\n",
        "print(\"Modelo salvo com sucesso!\")\n"
      ],
      "metadata": {
        "id": "9URI3i81Jvxq"
      },
      "execution_count": null,
      "outputs": []
    }
  ]
}